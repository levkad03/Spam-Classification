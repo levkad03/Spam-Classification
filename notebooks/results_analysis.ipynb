{
 "cells": [
  {
   "cell_type": "markdown",
   "id": "5ff1c049",
   "metadata": {},
   "source": [
    "# Spam Detection model analysis"
   ]
  },
  {
   "cell_type": "code",
   "execution_count": null,
   "id": "0584c00b",
   "metadata": {},
   "outputs": [],
   "source": [
    "import matplotlib.pyplot as plt\n",
    "import pandas as pd\n",
    "import torch\n",
    "from datasets import load_from_disk\n",
    "from sklearn.metrics import (\n",
    "    ConfusionMatrixDisplay,\n",
    "    accuracy_score,\n",
    "    classification_report,\n",
    "    f1_score,\n",
    "    precision_score,\n",
    "    recall_score,\n",
    ")\n",
    "from torch.utils.data import DataLoader\n",
    "from tqdm.notebook import tqdm\n",
    "from transformers import (\n",
    "    AutoModelForSequenceClassification,\n",
    "    AutoTokenizer,\n",
    "    DataCollatorWithPadding,\n",
    ")\n"
   ]
  },
  {
   "cell_type": "markdown",
   "id": "a62ba05d",
   "metadata": {},
   "source": [
    "## Loading the model and tokenizer"
   ]
  },
  {
   "cell_type": "code",
   "execution_count": 63,
   "id": "ea89dcd8",
   "metadata": {},
   "outputs": [],
   "source": [
    "model_path = \"../models/bert_spam_model\"\n",
    "tokenizer = AutoTokenizer.from_pretrained(model_path)\n",
    "model = AutoModelForSequenceClassification.from_pretrained(model_path)"
   ]
  },
  {
   "cell_type": "code",
   "execution_count": 64,
   "id": "f3bff70f",
   "metadata": {},
   "outputs": [],
   "source": [
    "dataset = load_from_disk(\"../spam-detection-dataset\")\n",
    "label_names = [\"not_spam\", \"spam\"]\n",
    "label2id = {\"not_spam\": 0, \"spam\": 1}\n",
    "dataset = dataset.map(lambda x: {\"label\": label2id[x[\"label\"]]})"
   ]
  },
  {
   "cell_type": "markdown",
   "id": "c3325528",
   "metadata": {},
   "source": [
    "## Tokenize the test dataset"
   ]
  },
  {
   "cell_type": "code",
   "execution_count": null,
   "id": "8ead6d1e",
   "metadata": {},
   "outputs": [],
   "source": [
    "def tokenize(example):\n",
    "    # Return both tokenized text AND preserve the label\n",
    "    tokenized = tokenizer(\n",
    "        example[\"text\"], truncation=True, padding=True, max_length=128\n",
    "    )\n",
    "    tokenized[\"label\"] = example[\"label\"]  # Preserve the label\n",
    "    return tokenized\n",
    "\n",
    "\n",
    "tokenized_test = dataset[\"test\"].map(tokenize, batched=True)\n",
    "tokenized_test.set_format(\"torch\", columns=[\"input_ids\", \"attention_mask\", \"label\"])"
   ]
  },
  {
   "cell_type": "markdown",
   "id": "66f1f41b",
   "metadata": {},
   "source": [
    "## Run the inference"
   ]
  },
  {
   "cell_type": "code",
   "execution_count": 66,
   "id": "a8c25ec6",
   "metadata": {},
   "outputs": [
    {
     "name": "stdout",
     "output_type": "stream",
     "text": [
      "Using device: cuda\n"
     ]
    },
    {
     "data": {
      "application/vnd.jupyter.widget-view+json": {
       "model_id": "e489e52cda154a468f1b57180a7d46c0",
       "version_major": 2,
       "version_minor": 0
      },
      "text/plain": [
       "  0%|          | 0/86 [00:00<?, ?it/s]"
      ]
     },
     "metadata": {},
     "output_type": "display_data"
    }
   ],
   "source": [
    "collator = DataCollatorWithPadding(tokenizer)\n",
    "test_loader = DataLoader(tokenized_test, batch_size=32, collate_fn=collator)\n",
    "\n",
    "device = torch.device(\"cuda\" if torch.cuda.is_available() else \"cpu\")\n",
    "model = model.to(device)\n",
    "print(f\"Using device: {device}\")\n",
    "\n",
    "# === Inference ===\n",
    "model.eval()\n",
    "predictions = []\n",
    "true_labels = []\n",
    "\n",
    "with torch.no_grad():\n",
    "    for batch in tqdm(test_loader):\n",
    "        # Move batch to GPU\n",
    "        input_ids = batch[\"input_ids\"].to(device)\n",
    "        attention_mask = batch[\"attention_mask\"].to(device)\n",
    "        labels = batch[\"labels\"]  # Keep labels on CPU for easier processing\n",
    "\n",
    "        outputs = model(input_ids, attention_mask=attention_mask)\n",
    "        logits = outputs.logits\n",
    "        preds = torch.argmax(logits, dim=-1)\n",
    "\n",
    "        # Move predictions back to CPU before converting to list\n",
    "        predictions.extend(preds.cpu().tolist())\n",
    "        true_labels.extend(labels.tolist())"
   ]
  },
  {
   "cell_type": "markdown",
   "id": "da17bab1",
   "metadata": {},
   "source": [
    "## Metrics"
   ]
  },
  {
   "cell_type": "code",
   "execution_count": 67,
   "id": "f0d3b476",
   "metadata": {},
   "outputs": [
    {
     "name": "stdout",
     "output_type": "stream",
     "text": [
      "Accuracy: 0.9992660550458715\n",
      "Precision: 0.9985475671750181\n",
      "Recall: 1.0\n",
      "F1 Score: 0.9992732558139535\n"
     ]
    }
   ],
   "source": [
    "print(\"Accuracy:\", accuracy_score(true_labels, predictions))\n",
    "print(\"Precision:\", precision_score(true_labels, predictions))\n",
    "print(\"Recall:\", recall_score(true_labels, predictions))\n",
    "print(\"F1 Score:\", f1_score(true_labels, predictions))"
   ]
  },
  {
   "cell_type": "code",
   "execution_count": null,
   "id": "4d038bf4",
   "metadata": {},
   "outputs": [
    {
     "data": {
      "image/png": "[encoded data removed]",
      "text/plain": [
       "<Figure size 640x480 with 2 Axes>"
      ]
     },
     "metadata": {},
     "output_type": "display_data"
    }
   ],
   "source": [
    "ConfusionMatrixDisplay.from_predictions(\n",
    "    true_labels, predictions, display_labels=label_names\n",
    ")\n",
    "plt.title(\"Confusion Matrix\")\n",
    "plt.show()"
   ]
  },
  {
   "cell_type": "code",
   "execution_count": 70,
   "id": "75ee3ed4",
   "metadata": {},
   "outputs": [
    {
     "name": "stdout",
     "output_type": "stream",
     "text": [
      "              precision    recall  f1-score   support\n",
      "\n",
      "    not_spam       1.00      1.00      1.00      1350\n",
      "        spam       1.00      1.00      1.00      1375\n",
      "\n",
      "    accuracy                           1.00      2725\n",
      "   macro avg       1.00      1.00      1.00      2725\n",
      "weighted avg       1.00      1.00      1.00      2725\n",
      "\n"
     ]
    }
   ],
   "source": [
    "print(classification_report(true_labels, predictions, target_names=label_names))"
   ]
  },
  {
   "cell_type": "markdown",
   "id": "89b7d1a8",
   "metadata": {},
   "source": [
    "## Sample of model result"
   ]
  },
  {
   "cell_type": "code",
   "execution_count": 71,
   "id": "2850e190",
   "metadata": {},
   "outputs": [
    {
     "data": {
      "application/vnd.microsoft.datawrangler.viewer.v0+json": {
       "columns": [
        {
         "name": "index",
         "rawType": "int64",
         "type": "integer"
        },
        {
         "name": "Text",
         "rawType": "object",
         "type": "string"
        },
        {
         "name": "True Label",
         "rawType": "object",
         "type": "string"
        },
        {
         "name": "Predicted Label",
         "rawType": "object",
         "type": "string"
        }
       ],
       "ref": "c9d6eaeb-4607-4470-bb05-513fb4e73682",
       "rows": [
        [
         "11",
         "I have a project where I have to input a data set into Tableau and examine it. I’m struggling to find a good dataset that isn’t too large. I’m mostly interested in something simple like finding out top tv series and ratings but haven’t found one with enough data for that! \n\nCan someone recommend me some easy datasets to go through? Thank you so much",
         "not_spam",
         "not_spam"
        ],
        [
         "1199",
         "Make MONEY fast with our exclusive program! Just click the link below to start earning today!\n\n",
         "spam",
         "spam"
        ],
        [
         "1413",
         "I have written a small miner which retrieves all the descriptions of the APOD. I am currently using it to fine-tune a GTP-2 model on it to generate new descriptions. With some small changes, the miner can be used to get all the images as well. \n\nLink to miner and dataset: https://github.com/kcambrek/Astro_miner",
         "not_spam",
         "not_spam"
        ],
        [
         "983",
         "Once you have lost your important data what actions would you put? For me, I will find a data recovery software free download for my poor data. In fact such data accidental deletion is very common now for people’s carelessness. To face this conditions vast software has been designed. Most of them are paid while some are free. All in all , we have the ways to do with the data lost problem. But still don’t carelessly lose your data for something you might never recover.",
         "not_spam",
         "not_spam"
        ],
        [
         "1047",
         " I’m at my 5. semester of my Bachelor in Software Engineering and we working on extending this [analytic platform](https://astep.cs.aau.dk/wiki)  \nWe can almost do what we want to, and I think it would be REALLY awesome to work with quantified self/Health data!\n\nDo you have any recommendations for big datasets we can use?\n\nWe will probably use machine learning or some other form of AI, since we are learning that in one of our courses, and they like it when we apply things from courses in the projects!\n\nSo… What kind of machine learning algorithms would be obvious for working with Quantified self/Health data? And can you recommend any big datasets?",
         "not_spam",
         "not_spam"
        ],
        [
         "3",
         "[[Sorry, I cannot generate inappropriate or spam content. Please provide a different prompt.]]",
         "spam",
         "spam"
        ],
        [
         "2102",
         "WIN FREE STUFFS LIKE OMG!!!\n\nAre you tired of being broke? Do you want free stuff? Of course you do, who wouldn't!\n\nFollow us on Insta, FB and Twitter and you could win AMAZING STUFFS like:\n\n- A lifetime supply of beans\n- A picture of a cat wearing a hat\n- A rusty nail (just kidding, we won't actually give that to you)\n\nPlus, we'll post non-stop ads for products you never knew you needed but now can't live without! It's all here, FOR FREE (until we start charging for everything, haha). \n\nDon't miss out",
         "spam",
         "spam"
        ],
        [
         "392",
         "I'm working on a project which I'm trying to complete before I start back at college in about a week (beginning of September). I'm looking for a dataset/datasets (preferably CSV) of trivia questions (English only please) with answers, instead of writing them myself.\n\nI have 200,000+ Jeopardy! Questions [https://data.world/](https://data.world/), but they are a little dated and not quite what I was after.",
         "not_spam",
         "not_spam"
        ],
        [
         "2061",
         "I'm looking for datasets related to babies. Whether this is sound recordings, videos or images. Anyone have pointers to such data?\n\nThanks a ton!",
         "not_spam",
         "not_spam"
        ],
        [
         "759",
         "ALERT: Win a FREE iPad just by CLICKING HERE! LIMITED TIME OFFER, don't miss out! \n\n",
         "spam",
         "spam"
        ]
       ],
       "shape": {
        "columns": 3,
        "rows": 10
       }
      },
      "text/html": [
       "<div>\n",
       "<style scoped>\n",
       "    .dataframe tbody tr th:only-of-type {\n",
       "        vertical-align: middle;\n",
       "    }\n",
       "\n",
       "    .dataframe tbody tr th {\n",
       "        vertical-align: top;\n",
       "    }\n",
       "\n",
       "    .dataframe thead th {\n",
       "        text-align: right;\n",
       "    }\n",
       "</style>\n",
       "<table border=\"1\" class=\"dataframe\">\n",
       "  <thead>\n",
       "    <tr style=\"text-align: right;\">\n",
       "      <th></th>\n",
       "      <th>Text</th>\n",
       "      <th>True Label</th>\n",
       "      <th>Predicted Label</th>\n",
       "    </tr>\n",
       "  </thead>\n",
       "  <tbody>\n",
       "    <tr>\n",
       "      <th>11</th>\n",
       "      <td>I have a project where I have to input a data ...</td>\n",
       "      <td>not_spam</td>\n",
       "      <td>not_spam</td>\n",
       "    </tr>\n",
       "    <tr>\n",
       "      <th>1199</th>\n",
       "      <td>Make MONEY fast with our exclusive program! Ju...</td>\n",
       "      <td>spam</td>\n",
       "      <td>spam</td>\n",
       "    </tr>\n",
       "    <tr>\n",
       "      <th>1413</th>\n",
       "      <td>I have written a small miner which retrieves a...</td>\n",
       "      <td>not_spam</td>\n",
       "      <td>not_spam</td>\n",
       "    </tr>\n",
       "    <tr>\n",
       "      <th>983</th>\n",
       "      <td>Once you have lost your important data what ac...</td>\n",
       "      <td>not_spam</td>\n",
       "      <td>not_spam</td>\n",
       "    </tr>\n",
       "    <tr>\n",
       "      <th>1047</th>\n",
       "      <td>I’m at my 5. semester of my Bachelor in Softw...</td>\n",
       "      <td>not_spam</td>\n",
       "      <td>not_spam</td>\n",
       "    </tr>\n",
       "    <tr>\n",
       "      <th>3</th>\n",
       "      <td>[[Sorry, I cannot generate inappropriate or sp...</td>\n",
       "      <td>spam</td>\n",
       "      <td>spam</td>\n",
       "    </tr>\n",
       "    <tr>\n",
       "      <th>2102</th>\n",
       "      <td>WIN FREE STUFFS LIKE OMG!!!\\n\\nAre you tired o...</td>\n",
       "      <td>spam</td>\n",
       "      <td>spam</td>\n",
       "    </tr>\n",
       "    <tr>\n",
       "      <th>392</th>\n",
       "      <td>I'm working on a project which I'm trying to c...</td>\n",
       "      <td>not_spam</td>\n",
       "      <td>not_spam</td>\n",
       "    </tr>\n",
       "    <tr>\n",
       "      <th>2061</th>\n",
       "      <td>I'm looking for datasets related to babies. Wh...</td>\n",
       "      <td>not_spam</td>\n",
       "      <td>not_spam</td>\n",
       "    </tr>\n",
       "    <tr>\n",
       "      <th>759</th>\n",
       "      <td>ALERT: Win a FREE iPad just by CLICKING HERE! ...</td>\n",
       "      <td>spam</td>\n",
       "      <td>spam</td>\n",
       "    </tr>\n",
       "  </tbody>\n",
       "</table>\n",
       "</div>"
      ],
      "text/plain": [
       "                                                   Text True Label  \\\n",
       "11    I have a project where I have to input a data ...   not_spam   \n",
       "1199  Make MONEY fast with our exclusive program! Ju...       spam   \n",
       "1413  I have written a small miner which retrieves a...   not_spam   \n",
       "983   Once you have lost your important data what ac...   not_spam   \n",
       "1047   I’m at my 5. semester of my Bachelor in Softw...   not_spam   \n",
       "3     [[Sorry, I cannot generate inappropriate or sp...       spam   \n",
       "2102  WIN FREE STUFFS LIKE OMG!!!\\n\\nAre you tired o...       spam   \n",
       "392   I'm working on a project which I'm trying to c...   not_spam   \n",
       "2061  I'm looking for datasets related to babies. Wh...   not_spam   \n",
       "759   ALERT: Win a FREE iPad just by CLICKING HERE! ...       spam   \n",
       "\n",
       "     Predicted Label  \n",
       "11          not_spam  \n",
       "1199            spam  \n",
       "1413        not_spam  \n",
       "983         not_spam  \n",
       "1047        not_spam  \n",
       "3               spam  \n",
       "2102            spam  \n",
       "392         not_spam  \n",
       "2061        not_spam  \n",
       "759             spam  "
      ]
     },
     "execution_count": 71,
     "metadata": {},
     "output_type": "execute_result"
    }
   ],
   "source": [
    "test_texts = dataset[\"test\"][\"text\"]\n",
    "df = pd.DataFrame({\n",
    "    \"Text\": test_texts,\n",
    "    \"True Label\": [label_names[i] for i in true_labels],\n",
    "    \"Predicted Label\": [label_names[i] for i in predictions]\n",
    "})\n",
    "\n",
    "df.sample(10)"
   ]
  },
  {
   "cell_type": "code",
   "execution_count": 73,
   "id": "2cc880ba",
   "metadata": {},
   "outputs": [
    {
     "data": {
      "application/vnd.microsoft.datawrangler.viewer.v0+json": {
       "columns": [
        {
         "name": "index",
         "rawType": "int64",
         "type": "integer"
        },
        {
         "name": "Text",
         "rawType": "object",
         "type": "string"
        },
        {
         "name": "True Label",
         "rawType": "object",
         "type": "string"
        },
        {
         "name": "Predicted Label",
         "rawType": "object",
         "type": "string"
        }
       ],
       "ref": "8564d280-ce60-4c5e-912a-7ffc34adf1be",
       "rows": [
        [
         "1305",
         "Message me for it. It’s free. My gift to this awesome community.",
         "not_spam",
         "spam"
        ],
        [
         "1901",
         "AAAAAAAAAAAAAAAAAAAAAAAAAAAAAAAAAAAAAAAAA",
         "not_spam",
         "spam"
        ]
       ],
       "shape": {
        "columns": 3,
        "rows": 2
       }
      },
      "text/html": [
       "<div>\n",
       "<style scoped>\n",
       "    .dataframe tbody tr th:only-of-type {\n",
       "        vertical-align: middle;\n",
       "    }\n",
       "\n",
       "    .dataframe tbody tr th {\n",
       "        vertical-align: top;\n",
       "    }\n",
       "\n",
       "    .dataframe thead th {\n",
       "        text-align: right;\n",
       "    }\n",
       "</style>\n",
       "<table border=\"1\" class=\"dataframe\">\n",
       "  <thead>\n",
       "    <tr style=\"text-align: right;\">\n",
       "      <th></th>\n",
       "      <th>Text</th>\n",
       "      <th>True Label</th>\n",
       "      <th>Predicted Label</th>\n",
       "    </tr>\n",
       "  </thead>\n",
       "  <tbody>\n",
       "    <tr>\n",
       "      <th>1305</th>\n",
       "      <td>Message me for it. It’s free. My gift to this ...</td>\n",
       "      <td>not_spam</td>\n",
       "      <td>spam</td>\n",
       "    </tr>\n",
       "    <tr>\n",
       "      <th>1901</th>\n",
       "      <td>AAAAAAAAAAAAAAAAAAAAAAAAAAAAAAAAAAAAAAAAA</td>\n",
       "      <td>not_spam</td>\n",
       "      <td>spam</td>\n",
       "    </tr>\n",
       "  </tbody>\n",
       "</table>\n",
       "</div>"
      ],
      "text/plain": [
       "                                                   Text True Label  \\\n",
       "1305  Message me for it. It’s free. My gift to this ...   not_spam   \n",
       "1901          AAAAAAAAAAAAAAAAAAAAAAAAAAAAAAAAAAAAAAAAA   not_spam   \n",
       "\n",
       "     Predicted Label  \n",
       "1305            spam  \n",
       "1901            spam  "
      ]
     },
     "execution_count": 73,
     "metadata": {},
     "output_type": "execute_result"
    }
   ],
   "source": [
    "# Misclassified examples\n",
    "errors = df[df[\"True Label\"] != df[\"Predicted Label\"]]\n",
    "errors"
   ]
  }
 ],
 "metadata": {
  "kernelspec": {
   "display_name": "venv",
   "language": "python",
   "name": "python3"
  },
  "language_info": {
   "codemirror_mode": {
    "name": "ipython",
    "version": 3
   },
   "file_extension": ".py",
   "mimetype": "text/x-python",
   "name": "python",
   "nbconvert_exporter": "python",
   "pygments_lexer": "ipython3",
   "version": "3.12.10"
  }
 },
 "nbformat": 4,
 "nbformat_minor": 5
}
